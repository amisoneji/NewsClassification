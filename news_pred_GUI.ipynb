{
 "cells": [
  {
   "cell_type": "code",
   "execution_count": 1,
   "id": "a1a64072-c828-4de0-bd87-598c6affc2d4",
   "metadata": {},
   "outputs": [],
   "source": [
    "from tkinter import * \n",
    "from tkinter import messagebox\n",
    "from tkinter import filedialog\n",
    "import cv2\n",
    "from PIL import Image, ImageTk\n",
    "\n",
    "import string\n",
    "import re\n",
    "import nltk\n",
    "from nltk.corpus import stopwords\n",
    "from nltk.tokenize import word_tokenize\n",
    "from nltk.stem import WordNetLemmatizer\n",
    "from sklearn.feature_extraction.text import CountVectorizer,TfidfVectorizer\n",
    "import pandas as pd\n",
    "\n",
    "from sklearn.naive_bayes import MultinomialNB\n",
    "from imblearn.over_sampling import RandomOverSampler\n",
    "\n",
    "\n",
    "from sklearn.naive_bayes import MultinomialNB\n",
    "import os"
   ]
  },
  {
   "cell_type": "code",
   "execution_count": 2,
   "id": "a71aad03-9c96-41f3-a85e-3e77879ecae5",
   "metadata": {},
   "outputs": [
    {
     "name": "stderr",
     "output_type": "stream",
     "text": [
      "[nltk_data] Downloading package wordnet to\n",
      "[nltk_data]     C:\\Users\\AMI\\AppData\\Roaming\\nltk_data...\n",
      "[nltk_data]   Package wordnet is already up-to-date!\n"
     ]
    },
    {
     "data": {
      "text/plain": [
       "True"
      ]
     },
     "execution_count": 2,
     "metadata": {},
     "output_type": "execute_result"
    }
   ],
   "source": [
    "nltk.download('wordnet')"
   ]
  },
  {
   "cell_type": "code",
   "execution_count": 3,
   "id": "93cea052-d465-4472-bf1f-462077951767",
   "metadata": {},
   "outputs": [],
   "source": [
    "win=Tk()\n",
    "win.state(\"zoomed\")\n",
    "win.resizable(width=False,height=False)\n",
    "win.configure(bg=\"orange\")\n",
    "win.title(\"My project\")\n",
    "lbl_title=Label(win,text=\"News Classification\",font=('',55,'bold','underline'),bg='orange')\n",
    "lbl_title.place(relx=.28,rely=0)"
   ]
  },
  {
   "cell_type": "code",
   "execution_count": 4,
   "id": "21287839-40fc-4922-b62b-cacd9649588d",
   "metadata": {},
   "outputs": [
    {
     "data": {
      "text/plain": [
       "MultinomialNB()"
      ]
     },
     "execution_count": 4,
     "metadata": {},
     "output_type": "execute_result"
    }
   ],
   "source": [
    "spwords=stopwords.words(\"english\")\n",
    "spwords.remove('not')\n",
    "spwords.remove(\"don't\")\n",
    "updated_spwords=spwords[:-34]\n",
    "wnl=WordNetLemmatizer()\n",
    "\n",
    "def text_cleaning(doc):\n",
    "    doc=doc.lower()\n",
    "    doc=re.sub(f\"[{string.punctuation}]\",\"\",doc)\n",
    "    ss=\"\"\n",
    "    for w in word_tokenize(doc):\n",
    "        if(w not in updated_spwords):\n",
    "            ss=ss+\" \"+wnl.lemmatize(w)\n",
    "    return ss.strip()\n",
    "\n",
    "\n",
    "\n",
    "\n",
    "\n",
    "df=pd.read_json(r\"D:\\Adity_sir\\data\\sentiment\\news.json\",lines=True)\n",
    "corpus=df.headline\n",
    "y=df.category\n",
    "final_corpus=corpus.apply(text_cleaning)\n",
    "cv=CountVectorizer(binary=False,ngram_range=(1,3))\n",
    "X=cv.fit_transform(final_corpus)\n",
    "ros1 = RandomOverSampler(random_state=42)\n",
    "\n",
    "X_res1, y_res1 = ros1.fit_resample(X, y)\n",
    "\n",
    "model=MultinomialNB()\n",
    "model.fit(X_res1,y_res1)\n",
    "\n"
   ]
  },
  {
   "cell_type": "code",
   "execution_count": 5,
   "id": "6a065c3b-ade6-46b1-8215-a6cd6a1f1e9e",
   "metadata": {},
   "outputs": [],
   "source": [
    "def one_news_pred_screen():\n",
    "    \n",
    "    def news_prediction():\n",
    "        test=entry_for_news.get()\n",
    "        sample=str(test)\n",
    "        if(len(sample)==0):  #------>empty check\n",
    "                messagebox.showerror(\"Empty Value\",\"check added data\")\n",
    "        else:\n",
    "\n",
    "                pred_sample=text_cleaning(sample)\n",
    "                pred=cv.transform([pred_sample]).toarray()\n",
    "                ans=model.predict(pred)[0]\n",
    "                prediction=str(ans)\n",
    "                \n",
    "                \n",
    "               \n",
    "                \n",
    "                \n",
    "                lbl_pred=Label(frm,text=prediction,font=('',15,'bold'),bg='sky blue')\n",
    "                lbl_pred.place(relx=.50,rely=.46)\n",
    "                lbl_pred_text=Label(frm,text=\"Prediction:\",font=('',18,'bold'),bg='sky blue')\n",
    "                lbl_pred_text.place(relx=.38,rely=.45)\n",
    "                \n",
    "                \n",
    "                \n",
    "                \n",
    "\n",
    "    frm=Frame(win,bg='sky blue')\n",
    "    frm.place(relx=0,rely=.15,relwidth=1,relheight=1)\n",
    " \n",
    "    lbl_one_news=Label(frm,text=\"Enter news\",font=('',15,'bold'),bg='sky blue')\n",
    "    lbl_one_news.place(relx=.3,rely=.23)\n",
    "\n",
    "    entry_for_news=Entry(frm,font=('',20,'bold'),bd=10)\n",
    "    entry_for_news.place(relx=.42,rely=.22)\n",
    "    \n",
    "    btn_pred=Button(frm,command=lambda:news_prediction(),text=\"Predict\",font=('',20,'bold'),bd=10,width=8)\n",
    "    btn_pred.place(relx=.40,rely=.32)\n",
    "\n",
    "\n",
    "    btn_back=Button(frm,command=lambda:welcome_screen(),text=\"back\",font=('',20,'bold'),bd=10)\n",
    "    btn_back.place(relx=.9,rely=0)\n",
    "    \n",
    "    \n",
    "                \n",
    "    \n",
    "    \n",
    "    "
   ]
  },
  {
   "cell_type": "code",
   "execution_count": 6,
   "id": "9c27c2ad-a0f4-43db-bb47-bf3cec2b0dad",
   "metadata": {},
   "outputs": [],
   "source": [
    "iFrame=None\n",
    "def browse_file():\n",
    "        global iFrame\n",
    "        if(iFrame!=None):\n",
    "            iFrame.destroy()\n",
    "        file_path=filedialog.askopenfilename()\n",
    "        file = open(file_path, \"r\")\n",
    "        lines=file.readlines()\n",
    "\n",
    "        for i in range(0,len(lines)):\n",
    "            sample=lines[i]\n",
    "            pred_sample=text_cleaning(sample)\n",
    "            pred=cv.transform([pred_sample]).toarray()\n",
    "            #if (os.path.exists (\"prediction\")):\n",
    "                   #pass\n",
    "            #else:\n",
    "                #os.mkdir(\"prediction\")\n",
    "            path=file_path\n",
    "            new_path = path.rsplit('/', 1)[0]\n",
    "            path_pred=new_path+\"/\"+\"pred.txt\"\n",
    "\n",
    "\n",
    "            file=open(path_pred,\"a\")\n",
    "            j=model.predict(pred)[0]\n",
    "            file.write(lines[i]+\"-\"+j+\"\\n\")\n",
    "            file.close()\n",
    "            \n",
    "        messagebox.showinfo(\"validation\",\"File Created in same Directory\")\n",
    "        file.close()\n",
    "        "
   ]
  },
  {
   "cell_type": "code",
   "execution_count": 7,
   "id": "74ce92e0-2892-49eb-ad28-c336354f2bc0",
   "metadata": {},
   "outputs": [],
   "source": [
    "\n",
    "\n",
    "def file_news_pred():\n",
    "    frm=Frame(win,bg='sky blue')\n",
    "    frm.place(relx=0,rely=.15,relwidth=1,relheight=1)\n",
    "  \n",
    "    btn_Browse=Button(frm,command=lambda:browse_file(),text=\"Browse\",font=('',20,'bold'),bd=10,width=8)\n",
    "    btn_Browse.place(relx=.37,rely=.05)\n",
    "    \n",
    "    \n",
    "    btn_back=Button(frm,command=lambda:welcome_screen(),text=\"back\",font=('',20,'bold'),bd=10)\n",
    "    btn_back.place(relx=.9,rely=0)\n",
    "    \n",
    "    "
   ]
  },
  {
   "cell_type": "code",
   "execution_count": 8,
   "id": "579f7a62-cd4f-4e19-95e8-339dfb296964",
   "metadata": {},
   "outputs": [],
   "source": [
    "def home_screen():\n",
    "    frm=Frame(win,bg='sky blue')\n",
    "    frm.place(relx=0,rely=.12,relwidth=1,relheight=1)\n",
    "    \n",
    "    lbl_user=Label(frm,text=\"Username\",font=('',20,'bold'),bg='sky blue')\n",
    "    lbl_user.place(relx=.3,rely=.3)\n",
    "\n",
    "    entry_user=Entry(frm,font=('',20,'bold'),bd=10)\n",
    "    entry_user.place(relx=.42,rely=.3)\n",
    "    entry_user.focus()\n",
    "\n",
    "    lbl_pass=Label(frm,text=\"Password\",font=('',20,'bold'),bg='sky blue')\n",
    "    lbl_pass.place(relx=.3,rely=.4)\n",
    "\n",
    "    entry_pass=Entry(frm,font=('',20,'bold'),bd=10,show=\"*\")\n",
    "    entry_pass.place(relx=.42,rely=.4)\n",
    "\n",
    "    btn_login=Button(frm,command=lambda:welcome_screen(entry_user,entry_pass),text=\"login\",font=('',20,'bold'),bd=10,width=10)\n",
    "    btn_login.place(relx=.45,rely=.5)\n",
    "\n",
    "def welcome_screen(entry_user=None,entry_pass=None):\n",
    "    if(entry_user!=None and entry_pass!=None):\n",
    "        user=entry_user.get()\n",
    "        pwd=entry_pass.get()\n",
    "    else:\n",
    "        user=\"admin\"\n",
    "        pwd=\"admin\"\n",
    "    if(len(user)==0 or len(pwd)==0):\n",
    "        messagebox.showwarning(\"validation\",\"Please fill both fields\")\n",
    "        return\n",
    "    else:\n",
    "        if(user==\"admin\" or pwd==\"admin\"):\n",
    "            frm=Frame(win,bg='skyblue')\n",
    "            frm.place(relx=0,rely=.15,relwidth=1,relheight=1)\n",
    "            \n",
    "            \n",
    "            btn_image_only_news=Button(frm,command=lambda:one_news_pred_screen(),text=\"News Prediction\",font=('',20,'bold'),bd=10,width=20)\n",
    "            btn_image_only_news.place(relx=.40,rely=.2)\n",
    "            \n",
    "            btn_image_file=Button(frm,command=lambda:file_news_pred(),text=\"News File Prediction\",font=('',20,'bold'),bd=10,width=20)\n",
    "            btn_image_file.place(relx=.40,rely=.4)\n",
    "            \n",
    "            \n",
    "        else:\n",
    "            messagebox.showerror(\"Fail\",\"Invalid Username/Password\")    \n",
    "    \n",
    "    \n",
    "home_screen()\n",
    "win.mainloop()\n"
   ]
  },
  {
   "cell_type": "code",
   "execution_count": null,
   "id": "ed23eb0e-257c-4679-b111-a8790e20cf67",
   "metadata": {},
   "outputs": [],
   "source": []
  }
 ],
 "metadata": {
  "kernelspec": {
   "display_name": "Python 3",
   "language": "python",
   "name": "python3"
  },
  "language_info": {
   "codemirror_mode": {
    "name": "ipython",
    "version": 3
   },
   "file_extension": ".py",
   "mimetype": "text/x-python",
   "name": "python",
   "nbconvert_exporter": "python",
   "pygments_lexer": "ipython3",
   "version": "3.8.8"
  }
 },
 "nbformat": 4,
 "nbformat_minor": 5
}
