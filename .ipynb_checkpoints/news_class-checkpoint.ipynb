{
 "cells": [
  {
   "cell_type": "code",
   "execution_count": 6,
   "id": "f37c19c0-8ca1-48d9-9d2a-849ed14517a1",
   "metadata": {},
   "outputs": [],
   "source": [
    "import string\n",
    "import re\n",
    "from nltk.corpus import stopwords\n",
    "from nltk.tokenize import word_tokenize\n",
    "from nltk.stem import WordNetLemmatizer\n",
    "from sklearn.feature_extraction.text import CountVectorizer,TfidfVectorizer\n",
    "from sklearn.linear_model import LogisticRegression,SGDClassifier\n",
    "import pandas as pd\n",
    "from sklearn.model_selection import cross_val_score\n",
    "import pandas as pd\n",
    "from sklearn.ensemble import RandomForestClassifier,AdaBoostClassifier"
   ]
  },
  {
   "cell_type": "code",
   "execution_count": 205,
   "id": "0ffac16f-f179-4b48-9188-d86a927ae6e5",
   "metadata": {},
   "outputs": [],
   "source": [
    "import warnings\n",
    "warnings.filterwarnings(\"ignore\")"
   ]
  },
  {
   "cell_type": "code",
   "execution_count": 2,
   "id": "33f34556-dc8f-46d1-975e-8587fb6b7742",
   "metadata": {},
   "outputs": [],
   "source": [
    "spwords=stopwords.words(\"english\")\n",
    "spwords.remove('not')\n",
    "spwords.remove(\"don't\")\n",
    "updated_spwords=spwords[:-34]\n",
    "wnl=WordNetLemmatizer()\n",
    "\n",
    "def text_cleaning(doc):\n",
    "    doc=doc.lower()\n",
    "    doc=re.sub(f\"[{string.punctuation}]\",\"\",doc)\n",
    "    ss=\"\"\n",
    "    for w in word_tokenize(doc):\n",
    "        if(w not in updated_spwords):\n",
    "            ss=ss+\" \"+wnl.lemmatize(w)\n",
    "    return ss.strip()"
   ]
  },
  {
   "cell_type": "code",
   "execution_count": 8,
   "id": "33159a16-0de2-4ea1-8250-083a285a4f0a",
   "metadata": {},
   "outputs": [],
   "source": [
    "df=pd.read_json(r\"D:\\Adity_sir\\data\\sentiment\\news.json\",lines=True)"
   ]
  },
  {
   "cell_type": "code",
   "execution_count": 9,
   "id": "e3cbfdb9-d9b5-45ca-8e9a-b9a4689c2810",
   "metadata": {},
   "outputs": [
    {
     "data": {
      "text/html": [
       "<div>\n",
       "<style scoped>\n",
       "    .dataframe tbody tr th:only-of-type {\n",
       "        vertical-align: middle;\n",
       "    }\n",
       "\n",
       "    .dataframe tbody tr th {\n",
       "        vertical-align: top;\n",
       "    }\n",
       "\n",
       "    .dataframe thead th {\n",
       "        text-align: right;\n",
       "    }\n",
       "</style>\n",
       "<table border=\"1\" class=\"dataframe\">\n",
       "  <thead>\n",
       "    <tr style=\"text-align: right;\">\n",
       "      <th></th>\n",
       "      <th>category</th>\n",
       "      <th>headline</th>\n",
       "      <th>authors</th>\n",
       "      <th>link</th>\n",
       "      <th>short_description</th>\n",
       "      <th>date</th>\n",
       "    </tr>\n",
       "  </thead>\n",
       "  <tbody>\n",
       "    <tr>\n",
       "      <th>0</th>\n",
       "      <td>CRIME</td>\n",
       "      <td>There Were 2 Mass Shootings In Texas Last Week...</td>\n",
       "      <td>Melissa Jeltsen</td>\n",
       "      <td>https://www.huffingtonpost.com/entry/texas-ama...</td>\n",
       "      <td>She left her husband. He killed their children...</td>\n",
       "      <td>2018-05-26</td>\n",
       "    </tr>\n",
       "    <tr>\n",
       "      <th>1</th>\n",
       "      <td>ENTERTAINMENT</td>\n",
       "      <td>Will Smith Joins Diplo And Nicky Jam For The 2...</td>\n",
       "      <td>Andy McDonald</td>\n",
       "      <td>https://www.huffingtonpost.com/entry/will-smit...</td>\n",
       "      <td>Of course it has a song.</td>\n",
       "      <td>2018-05-26</td>\n",
       "    </tr>\n",
       "    <tr>\n",
       "      <th>2</th>\n",
       "      <td>ENTERTAINMENT</td>\n",
       "      <td>Hugh Grant Marries For The First Time At Age 57</td>\n",
       "      <td>Ron Dicker</td>\n",
       "      <td>https://www.huffingtonpost.com/entry/hugh-gran...</td>\n",
       "      <td>The actor and his longtime girlfriend Anna Ebe...</td>\n",
       "      <td>2018-05-26</td>\n",
       "    </tr>\n",
       "  </tbody>\n",
       "</table>\n",
       "</div>"
      ],
      "text/plain": [
       "        category                                           headline  \\\n",
       "0          CRIME  There Were 2 Mass Shootings In Texas Last Week...   \n",
       "1  ENTERTAINMENT  Will Smith Joins Diplo And Nicky Jam For The 2...   \n",
       "2  ENTERTAINMENT    Hugh Grant Marries For The First Time At Age 57   \n",
       "\n",
       "           authors                                               link  \\\n",
       "0  Melissa Jeltsen  https://www.huffingtonpost.com/entry/texas-ama...   \n",
       "1    Andy McDonald  https://www.huffingtonpost.com/entry/will-smit...   \n",
       "2       Ron Dicker  https://www.huffingtonpost.com/entry/hugh-gran...   \n",
       "\n",
       "                                   short_description       date  \n",
       "0  She left her husband. He killed their children... 2018-05-26  \n",
       "1                           Of course it has a song. 2018-05-26  \n",
       "2  The actor and his longtime girlfriend Anna Ebe... 2018-05-26  "
      ]
     },
     "execution_count": 9,
     "metadata": {},
     "output_type": "execute_result"
    }
   ],
   "source": [
    "df.head(3)"
   ]
  },
  {
   "cell_type": "code",
   "execution_count": 114,
   "id": "9fa662ab-fb19-4c6c-ad6e-c54583701e84",
   "metadata": {},
   "outputs": [
    {
     "data": {
      "text/plain": [
       "'There Were 2 Mass Shootings In Texas Last Week, But Only 1 On TV'"
      ]
     },
     "execution_count": 114,
     "metadata": {},
     "output_type": "execute_result"
    }
   ],
   "source": [
    "df.headline[0]"
   ]
  },
  {
   "cell_type": "code",
   "execution_count": 11,
   "id": "00d96494-99ea-4ba3-8aa3-76f21cd0476a",
   "metadata": {},
   "outputs": [
    {
     "name": "stderr",
     "output_type": "stream",
     "text": [
      "[nltk_data] Downloading package wordnet to\n",
      "[nltk_data]     C:\\Users\\AMI\\AppData\\Roaming\\nltk_data...\n",
      "[nltk_data]   Unzipping corpora\\wordnet.zip.\n"
     ]
    },
    {
     "data": {
      "text/plain": [
       "True"
      ]
     },
     "execution_count": 11,
     "metadata": {},
     "output_type": "execute_result"
    }
   ],
   "source": [
    "import nltk\n",
    "nltk.download('wordnet')\n",
    "  "
   ]
  },
  {
   "cell_type": "code",
   "execution_count": 12,
   "id": "66a033b9-884a-460f-b717-3d9da08c89f7",
   "metadata": {},
   "outputs": [],
   "source": [
    "corpus=df.headline\n",
    "y=df.category\n",
    "final_corpus=corpus.apply(text_cleaning)"
   ]
  },
  {
   "cell_type": "code",
   "execution_count": 14,
   "id": "9b83734e-0300-4818-8f4b-cb3a52bfe20c",
   "metadata": {},
   "outputs": [
    {
     "data": {
      "text/plain": [
       "(1436,)"
      ]
     },
     "execution_count": 14,
     "metadata": {},
     "output_type": "execute_result"
    }
   ],
   "source": [
    "final_corpus.shape\n"
   ]
  },
  {
   "cell_type": "code",
   "execution_count": 15,
   "id": "ad7445e7-ffc5-4392-a2a5-7471118b6fce",
   "metadata": {},
   "outputs": [
    {
     "data": {
      "text/plain": [
       "(1436,)"
      ]
     },
     "execution_count": 15,
     "metadata": {},
     "output_type": "execute_result"
    }
   ],
   "source": [
    "y.shape"
   ]
  },
  {
   "cell_type": "markdown",
   "id": "9f8e04e0-25e7-4e01-9379-71a663006c52",
   "metadata": {},
   "source": [
    "### Naive_bayes"
   ]
  },
  {
   "cell_type": "code",
   "execution_count": 206,
   "id": "188127b3-abc0-4aff-8aab-841f2b188e5e",
   "metadata": {},
   "outputs": [
    {
     "name": "stdout",
     "output_type": "stream",
     "text": [
      "0.4220092915214866\n"
     ]
    }
   ],
   "source": [
    "from sklearn.naive_bayes import BernoulliNB\n",
    "cv=CountVectorizer(binary=True)\n",
    "X=cv.fit_transform(final_corpus)\n",
    "model=BernoulliNB()\n",
    "print(cross_val_score(model,X,y).mean())"
   ]
  },
  {
   "cell_type": "code",
   "execution_count": 207,
   "id": "19668a77-1669-4312-b7b5-aa463becec92",
   "metadata": {},
   "outputs": [
    {
     "name": "stdout",
     "output_type": "stream",
     "text": [
      "0.5626838946960898\n"
     ]
    }
   ],
   "source": [
    "from sklearn.naive_bayes import MultinomialNB\n",
    "cv=CountVectorizer(binary=False,ngram_range=(1,3))\n",
    "X=cv.fit_transform(final_corpus)\n",
    "model=MultinomialNB()\n",
    "print(cross_val_score(model,X,y).mean())"
   ]
  },
  {
   "cell_type": "code",
   "execution_count": 208,
   "id": "34d591b0-3e80-4a71-9acb-2ac0c08b4ed1",
   "metadata": {},
   "outputs": [
    {
     "name": "stdout",
     "output_type": "stream",
     "text": [
      "0.5236740224545102\n",
      "22120\n"
     ]
    }
   ],
   "source": [
    "from sklearn.naive_bayes import GaussianNB\n",
    "tv=TfidfVectorizer(ngram_range=(1,3))\n",
    "X=tv.fit_transform(final_corpus).toarray()\n",
    "model=GaussianNB()\n",
    "print(cross_val_score(model,X,y).mean())\n",
    "print(len(tv.get_feature_names()))"
   ]
  },
  {
   "cell_type": "markdown",
   "id": "c50d0f24-7136-4915-abd9-44909195d52d",
   "metadata": {},
   "source": [
    "### logistic Regression"
   ]
  },
  {
   "cell_type": "code",
   "execution_count": 209,
   "id": "9f2cd464-f4e2-4ae7-a771-6b364d2576c7",
   "metadata": {},
   "outputs": [
    {
     "name": "stdout",
     "output_type": "stream",
     "text": [
      "0.544579945799458\n"
     ]
    }
   ],
   "source": [
    "from sklearn.naive_bayes import MultinomialNB\n",
    "cv=CountVectorizer(binary=False,ngram_range=(1,4))\n",
    "X=cv.fit_transform(final_corpus)\n",
    "model=LogisticRegression()\n",
    "print(cross_val_score(model,X,y).mean())\n",
    "\n"
   ]
  },
  {
   "cell_type": "code",
   "execution_count": 211,
   "id": "52056d2f-287e-4c24-bee1-c36623b6ab3b",
   "metadata": {},
   "outputs": [
    {
     "name": "stdout",
     "output_type": "stream",
     "text": [
      "0.544579945799458\n"
     ]
    }
   ],
   "source": [
    "\n",
    "cv=CountVectorizer(binary=False,ngram_range=(1,4))\n",
    "X=cv.fit_transform(final_corpus).toarray()\n",
    "model=LogisticRegression()\n",
    "print(cross_val_score(model,X,y).mean())\n"
   ]
  },
  {
   "cell_type": "code",
   "execution_count": 213,
   "id": "b4fc1993-8037-461b-bb8b-161fd3d8d93b",
   "metadata": {},
   "outputs": [
    {
     "name": "stdout",
     "output_type": "stream",
     "text": [
      "0.5445751064653503\n"
     ]
    }
   ],
   "source": [
    "cv=CountVectorizer(binary=True,ngram_range=(1,4))\n",
    "X=cv.fit_transform(final_corpus).toarray()\n",
    "model=LogisticRegression(multi_class='multinomial', solver='lbfgs')\n",
    "print(cross_val_score(model,X,y).mean())\n"
   ]
  },
  {
   "cell_type": "code",
   "execution_count": 214,
   "id": "c29848fe-4d47-4505-9ca8-bc90f7d4fd64",
   "metadata": {},
   "outputs": [
    {
     "name": "stdout",
     "output_type": "stream",
     "text": [
      "0.4094729965156795\n"
     ]
    }
   ],
   "source": [
    "tv=TfidfVectorizer(ngram_range=(1,3))\n",
    "X=tv.fit_transform(final_corpus)\n",
    "model=LogisticRegression()\n",
    "print(cross_val_score(model,X,y).mean())\n"
   ]
  },
  {
   "cell_type": "markdown",
   "id": "d6249ee5-f2cb-4580-806a-4460d45a155a",
   "metadata": {},
   "source": [
    "### SGD Classifier"
   ]
  },
  {
   "cell_type": "code",
   "execution_count": 215,
   "id": "b1aa8027-6221-4fd8-9a9e-6f5d251be7c9",
   "metadata": {},
   "outputs": [
    {
     "name": "stdout",
     "output_type": "stream",
     "text": [
      "0.5961067557104143\n"
     ]
    }
   ],
   "source": [
    "cv=CountVectorizer(binary=True,ngram_range=(1,2))\n",
    "X=cv.fit_transform(final_corpus).toarray()\n",
    "model=SGDClassifier()\n",
    "print(cross_val_score(model,X,y).mean())\n",
    "\n",
    "\n",
    "\n"
   ]
  },
  {
   "cell_type": "code",
   "execution_count": 42,
   "id": "a339114b-c747-424d-b31b-a476bdf527ef",
   "metadata": {},
   "outputs": [
    {
     "name": "stderr",
     "output_type": "stream",
     "text": [
      "C:\\Users\\AMI\\anaconda3\\lib\\site-packages\\sklearn\\model_selection\\_split.py:666: UserWarning: The least populated class in y has only 3 members, which is less than n_splits=5.\n",
      "  warnings.warn((\"The least populated class in y has only %d\"\n"
     ]
    },
    {
     "name": "stdout",
     "output_type": "stream",
     "text": [
      "0.5856634727061557\n"
     ]
    }
   ],
   "source": [
    "tv=TfidfVectorizer(ngram_range=(1,2))\n",
    "X=cv.fit_transform(final_corpus).toarray()\n",
    "model=SGDClassifier()\n",
    "print(cross_val_score(model,X,y).mean())\n"
   ]
  },
  {
   "cell_type": "markdown",
   "id": "c0de29d2-7836-4a51-8124-7b2a46646fd5",
   "metadata": {},
   "source": [
    "### RandomRorest Classifier"
   ]
  },
  {
   "cell_type": "code",
   "execution_count": null,
   "id": "6948306e-f7fe-4a08-9584-41ad5b4e6211",
   "metadata": {},
   "outputs": [],
   "source": [
    "cv=CountVectorizer(binary=True,ngram_range=(1,3))\n",
    "X=cv.fit_transform(final_corpus).toarray()\n",
    "model=RandomForestClassifier()\n",
    "print(cross_val_score(model,X,y).mean())\n"
   ]
  },
  {
   "cell_type": "code",
   "execution_count": 46,
   "id": "925bb6fb-a4bf-4627-bb44-30a3ab7f93e2",
   "metadata": {},
   "outputs": [
    {
     "name": "stderr",
     "output_type": "stream",
     "text": [
      "C:\\Users\\AMI\\anaconda3\\lib\\site-packages\\sklearn\\model_selection\\_split.py:666: UserWarning: The least populated class in y has only 3 members, which is less than n_splits=5.\n",
      "  warnings.warn((\"The least populated class in y has only %d\"\n"
     ]
    },
    {
     "name": "stdout",
     "output_type": "stream",
     "text": [
      "0.5083478513356562\n"
     ]
    }
   ],
   "source": [
    "  cv=CountVectorizer(binary=True,ngram_range=(1,3))\n",
    "X=cv.fit_transform(final_corpus).toarray()\n",
    "model=RandomForestClassifier(n_estimators=50)\n",
    "print(cross_val_score(model,X,y).mean())\n",
    "                    "
   ]
  },
  {
   "cell_type": "code",
   "execution_count": 47,
   "id": "3026aa09-3140-4cd0-81c7-142163fde56e",
   "metadata": {},
   "outputs": [
    {
     "name": "stderr",
     "output_type": "stream",
     "text": [
      "C:\\Users\\AMI\\anaconda3\\lib\\site-packages\\sklearn\\model_selection\\_split.py:666: UserWarning: The least populated class in y has only 3 members, which is less than n_splits=5.\n",
      "  warnings.warn((\"The least populated class in y has only %d\"\n"
     ]
    },
    {
     "name": "stdout",
     "output_type": "stream",
     "text": [
      "0.5146172086720868\n"
     ]
    }
   ],
   "source": [
    "tv=TfidfVectorizer(ngram_range=(1,2))\n",
    "X=cv.fit_transform(final_corpus).toarray()\n",
    "model=RandomForestClassifier(n_estimators=50)\n",
    "print(cross_val_score(model,X,y).mean())\n",
    "                    "
   ]
  },
  {
   "cell_type": "code",
   "execution_count": 49,
   "id": "1eec3726-0701-4fec-a72a-b9640cf088ae",
   "metadata": {},
   "outputs": [
    {
     "name": "stderr",
     "output_type": "stream",
     "text": [
      "C:\\Users\\AMI\\anaconda3\\lib\\site-packages\\sklearn\\model_selection\\_split.py:666: UserWarning: The least populated class in y has only 3 members, which is less than n_splits=5.\n",
      "  warnings.warn((\"The least populated class in y has only %d\"\n"
     ]
    },
    {
     "name": "stdout",
     "output_type": "stream",
     "text": [
      "0.506276616337592\n"
     ]
    }
   ],
   "source": [
    "tv=TfidfVectorizer(ngram_range=(1,3))\n",
    "X=cv.fit_transform(final_corpus).toarray()\n",
    "model=RandomForestClassifier(n_estimators=100)\n",
    "print(cross_val_score(model,X,y).mean())\n",
    "                    "
   ]
  },
  {
   "cell_type": "markdown",
   "id": "95f46738-f041-494f-a70a-a8022ff1bd05",
   "metadata": {},
   "source": [
    "### AdaBoost Classifier"
   ]
  },
  {
   "cell_type": "code",
   "execution_count": 50,
   "id": "04ef54f2-7e61-4bed-93c5-c4fe12e3fa55",
   "metadata": {},
   "outputs": [
    {
     "name": "stderr",
     "output_type": "stream",
     "text": [
      "C:\\Users\\AMI\\anaconda3\\lib\\site-packages\\sklearn\\model_selection\\_split.py:666: UserWarning: The least populated class in y has only 3 members, which is less than n_splits=5.\n",
      "  warnings.warn((\"The least populated class in y has only %d\"\n"
     ]
    },
    {
     "name": "stdout",
     "output_type": "stream",
     "text": [
      "0.35863579171506005\n"
     ]
    }
   ],
   "source": [
    " cv=CountVectorizer(binary=True,ngram_range=(1,3))\n",
    "X=cv.fit_transform(final_corpus).toarray()\n",
    "model=AdaBoostClassifier()\n",
    "print(cross_val_score(model,X,y).mean())\n",
    "                    "
   ]
  },
  {
   "cell_type": "code",
   "execution_count": 51,
   "id": "fbaf9f4b-48ed-4e38-9168-31f602a96904",
   "metadata": {},
   "outputs": [
    {
     "name": "stderr",
     "output_type": "stream",
     "text": [
      "C:\\Users\\AMI\\anaconda3\\lib\\site-packages\\sklearn\\model_selection\\_split.py:666: UserWarning: The least populated class in y has only 3 members, which is less than n_splits=5.\n",
      "  warnings.warn((\"The least populated class in y has only %d\"\n"
     ]
    },
    {
     "name": "stdout",
     "output_type": "stream",
     "text": [
      "0.35933265582655827\n"
     ]
    }
   ],
   "source": [
    "tv=TfidfVectorizer(ngram_range=(1,3))\n",
    "X=cv.fit_transform(final_corpus).toarray()\n",
    "model=AdaBoostClassifier()\n",
    "print(cross_val_score(model,X,y).mean())"
   ]
  },
  {
   "cell_type": "code",
   "execution_count": 105,
   "id": "0c44193c-9ef2-4dbe-adb3-7d5fa96a907c",
   "metadata": {},
   "outputs": [
    {
     "data": {
      "image/png": "[encoded data removed]",
      "text/plain": [
       "<Figure size 1584x720 with 1 Axes>"
      ]
     },
     "metadata": {
      "needs_background": "light"
     },
     "output_type": "display_data"
    }
   ],
   "source": [
    "import matplotlib.pyplot as plt\n",
    "x1=y.value_counts().index\n",
    "y1=y.value_counts().values\n",
    "plt.figure(figsize=(22,10))\n",
    "plt.bar(x1, y1)\n",
    "plt.show()\n"
   ]
  },
  {
   "cell_type": "code",
   "execution_count": 85,
   "id": "356585eb-d78d-4380-bf0f-9aae641b8c09",
   "metadata": {},
   "outputs": [],
   "source": [
    "df=pd.read_json(r\"D:\\Adity_sir\\data\\sentiment\\news.json\",lines=True)"
   ]
  },
  {
   "cell_type": "code",
   "execution_count": 141,
   "id": "63912d99-d706-4ee7-b262-11ff3db4ce88",
   "metadata": {},
   "outputs": [],
   "source": [
    "corpus=df.headline\n",
    "y=df.category\n",
    "final_corpus=corpus.apply(text_cleaning)"
   ]
  },
  {
   "cell_type": "code",
   "execution_count": 156,
   "id": "4b52ecd3-1ff5-45c5-a21f-fc0059cd30ef",
   "metadata": {},
   "outputs": [],
   "source": [
    "cv=CountVectorizer(binary=True,ngram_range=(1,2))\n",
    "X=cv.fit_transform(final_corpus).toarray()\n",
    "ros1 = RandomOverSampler(random_state=42)\n",
    "\n",
    "X_res1, y_res1 = ros1.fit_resample(X, y)\n"
   ]
  },
  {
   "cell_type": "markdown",
   "id": "389abd22-2d72-4d50-bb81-6c67ca6e4f94",
   "metadata": {},
   "source": [
    "### prediction with SGDClassifier"
   ]
  },
  {
   "cell_type": "code",
   "execution_count": 143,
   "id": "27b80fc7-a92e-4a0e-bdf6-5a3173d23e00",
   "metadata": {},
   "outputs": [
    {
     "data": {
      "text/plain": [
       "SGDClassifier()"
      ]
     },
     "execution_count": 143,
     "metadata": {},
     "output_type": "execute_result"
    }
   ],
   "source": [
    "model=SGDClassifier()\n",
    "model.fit(X_res1,y_res1)"
   ]
  },
  {
   "cell_type": "code",
   "execution_count": 133,
   "id": "4d127da2-a1cc-42b5-b404-3cc49c78560a",
   "metadata": {},
   "outputs": [
    {
     "name": "stdout",
     "output_type": "stream",
     "text": [
      "0.988003293277049\n"
     ]
    }
   ],
   "source": [
    "print(cross_val_score(model,X_res1,y_res1).mean())\n"
   ]
  },
  {
   "cell_type": "code",
   "execution_count": 144,
   "id": "b1a93780-ac28-4a4f-8fbf-af359d0bcaf6",
   "metadata": {
    "tags": []
   },
   "outputs": [
    {
     "data": {
      "text/plain": [
       "array([[0, 0, 0, ..., 0, 0, 0]], dtype=int64)"
      ]
     },
     "execution_count": 144,
     "metadata": {},
     "output_type": "execute_result"
    }
   ],
   "source": [
    "sample=\"There Were 2 Mass Shootings In Texas Last Week, But Only 1 On TV\"\n",
    "pred_sample=text_cleaning(sample)\n",
    "pred=cv.transform([pred_sample]).toarray()\n",
    "\n",
    "pred"
   ]
  },
  {
   "cell_type": "code",
   "execution_count": 145,
   "id": "8c1a2e2f-6581-4d2a-b5d3-a03383096924",
   "metadata": {
    "tags": []
   },
   "outputs": [
    {
     "name": "stdout",
     "output_type": "stream",
     "text": [
      "['CRIME']\n"
     ]
    }
   ],
   "source": [
    "print(model.predict(pred))"
   ]
  },
  {
   "cell_type": "code",
   "execution_count": 154,
   "id": "1e3f4125-ef04-4054-8688-e279bcd14f77",
   "metadata": {},
   "outputs": [
    {
     "name": "stdout",
     "output_type": "stream",
     "text": [
      "['ENTERTAINMENT']\n"
     ]
    }
   ],
   "source": [
    "sample=\"murder of 2 peaople killed\"\n",
    "pred_sample=text_cleaning(sample)\n",
    "pred=cv.transform([pred_sample]).toarray()\n",
    "\n",
    "print(model.predict(pred))"
   ]
  },
  {
   "cell_type": "code",
   "execution_count": 155,
   "id": "b1540282-c55a-4202-a0ce-56b036d7fc52",
   "metadata": {},
   "outputs": [
    {
     "name": "stdout",
     "output_type": "stream",
     "text": [
      "['ENTERTAINMENT']\n"
     ]
    }
   ],
   "source": [
    "sample=\"2 peaople killed\"\n",
    "pred_sample=text_cleaning(sample)\n",
    "pred=cv.transform([pred_sample]).toarray()\n",
    "\n",
    "print(model.predict(pred))"
   ]
  },
  {
   "cell_type": "markdown",
   "id": "715f6520-6535-4c27-a96b-cc40ab281abd",
   "metadata": {},
   "source": [
    "### prediction with MultinomialNB"
   ]
  },
  {
   "cell_type": "code",
   "execution_count": 161,
   "id": "9cad1098-5752-467f-8db7-3385ecd0281f",
   "metadata": {},
   "outputs": [
    {
     "name": "stdout",
     "output_type": "stream",
     "text": [
      "0.9699154288497199\n"
     ]
    }
   ],
   "source": [
    "from sklearn.naive_bayes import MultinomialNB\n",
    "cv=CountVectorizer(binary=False,ngram_range=(1,3))\n",
    "X=cv.fit_transform(final_corpus)\n",
    "ros1 = RandomOverSampler(random_state=42)\n",
    "\n",
    "X_res1, y_res1 = ros1.fit_resample(X, y)\n",
    "\n",
    "model=MultinomialNB()\n",
    "model.fit(X_res1,y_res1)\n",
    "print(cross_val_score(model,X_res1,y_res1).mean())"
   ]
  },
  {
   "cell_type": "code",
   "execution_count": 162,
   "id": "b8308407-4f58-4cdc-af65-ca070e95fa4a",
   "metadata": {},
   "outputs": [
    {
     "name": "stdout",
     "output_type": "stream",
     "text": [
      "['CRIME']\n"
     ]
    }
   ],
   "source": [
    "sample=\"There Were 2 Mass Shootings In Texas Last Week, But Only 1 On TV\"\n",
    "pred_sample=text_cleaning(sample)\n",
    "pred=cv.transform([pred_sample]).toarray()\n",
    "\n",
    "print(model.predict(pred))"
   ]
  },
  {
   "cell_type": "code",
   "execution_count": 163,
   "id": "f99a72d0-f52a-4177-b47b-1b304cc0e744",
   "metadata": {},
   "outputs": [
    {
     "name": "stdout",
     "output_type": "stream",
     "text": [
      "['CRIME']\n"
     ]
    }
   ],
   "source": [
    "sample=\"2 peaople killed\"\n",
    "pred_sample=text_cleaning(sample)\n",
    "pred=cv.transform([pred_sample]).toarray()\n",
    "\n",
    "print(model.predict(pred))"
   ]
  },
  {
   "cell_type": "code",
   "execution_count": 164,
   "id": "234cdc08-c1ef-47b7-827e-01570d28a151",
   "metadata": {},
   "outputs": [
    {
     "name": "stdout",
     "output_type": "stream",
     "text": [
      "['IMPACT']\n"
     ]
    }
   ],
   "source": [
    "sample=\"bollywood get new faces\"\n",
    "pred_sample=text_cleaning(sample)\n",
    "pred=cv.transform([pred_sample]).toarray()\n",
    "\n",
    "print(model.predict(pred))"
   ]
  },
  {
   "cell_type": "code",
   "execution_count": 165,
   "id": "09d2370a-33b0-4744-929d-067ed52903a4",
   "metadata": {},
   "outputs": [
    {
     "name": "stdout",
     "output_type": "stream",
     "text": [
      "['ENVIRONMENT']\n"
     ]
    }
   ],
   "source": [
    "sample=\"heavy rain in noida weather\"\n",
    "pred_sample=text_cleaning(sample)\n",
    "pred=cv.transform([pred_sample]).toarray()\n",
    "\n",
    "print(model.predict(pred))"
   ]
  },
  {
   "cell_type": "code",
   "execution_count": 166,
   "id": "9f2af6e6-c622-496c-b362-ebb1709a8d55",
   "metadata": {},
   "outputs": [
    {
     "name": "stdout",
     "output_type": "stream",
     "text": [
      "['POLITICS']\n"
     ]
    }
   ],
   "source": [
    "sample=\"BJP party gets 3000 seats in next election\"\n",
    "pred_sample=text_cleaning(sample)\n",
    "pred=cv.transform([pred_sample]).toarray()\n",
    "\n",
    "print(model.predict(pred))"
   ]
  },
  {
   "cell_type": "code",
   "execution_count": 171,
   "id": "1fb08258-52a4-4ec7-b026-9c06fdff0eb0",
   "metadata": {},
   "outputs": [
    {
     "name": "stdout",
     "output_type": "stream",
     "text": [
      "['ENTERTAINMENT']\n"
     ]
    }
   ],
   "source": [
    "sample=\"In Photos: Extraordinary Tokyo Olympics draws to close with message of moving forward\"\n",
    "pred_sample=text_cleaning(sample)\n",
    "pred=cv.transform([pred_sample]).toarray()\n",
    "\n",
    "print(model.predict(pred))"
   ]
  },
  {
   "cell_type": "code",
   "execution_count": 200,
   "id": "6d88073d-9f9f-41b1-870e-1de82f0c759b",
   "metadata": {},
   "outputs": [
    {
     "data": {
      "text/plain": [
       "str"
      ]
     },
     "execution_count": 200,
     "metadata": {},
     "output_type": "execute_result"
    }
   ],
   "source": [
    "str=\"C:/Users/AMI/Desktop/ineu/Face Detection project/Face Detection/images/a.jpg\"\n",
    "new_string = str.rsplit('/', 1)[0]\n",
    "\n",
    "type(new_string)\n",
    "\n"
   ]
  },
  {
   "cell_type": "code",
   "execution_count": null,
   "id": "5e2a5cea-6122-49b7-958a-5010bf997758",
   "metadata": {},
   "outputs": [],
   "source": []
  }
 ],
 "metadata": {
  "kernelspec": {
   "display_name": "Python 3",
   "language": "python",
   "name": "python3"
  },
  "language_info": {
   "codemirror_mode": {
    "name": "ipython",
    "version": 3
   },
   "file_extension": ".py",
   "mimetype": "text/x-python",
   "name": "python",
   "nbconvert_exporter": "python",
   "pygments_lexer": "ipython3",
   "version": "3.8.8"
  }
 },
 "nbformat": 4,
 "nbformat_minor": 5
}
